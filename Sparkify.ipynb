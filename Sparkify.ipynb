{
 "cells": [
  {
   "cell_type": "markdown",
   "metadata": {},
   "source": [
    "# Sparkify Project Workspace\n",
    "This workspace contains a tiny subset (128MB) of the full dataset available (12GB). Feel free to use this workspace to build your project, or to explore a smaller subset with Spark before deploying your cluster on the cloud. Instructions for setting up your Spark cluster is included in the last lesson of the Extracurricular Spark Course content.\n",
    "\n",
    "You can follow the steps below to guide your data analysis and model building portion of this project."
   ]
  },
  {
   "cell_type": "code",
   "execution_count": 1,
   "metadata": {},
   "outputs": [
    {
     "ename": "ModuleNotFoundError",
     "evalue": "No module named 'pyspark'",
     "output_type": "error",
     "traceback": [
      "\u001b[1;31m---------------------------------------------------------------------------\u001b[0m",
      "\u001b[1;31mModuleNotFoundError\u001b[0m                       Traceback (most recent call last)",
      "Cell \u001b[1;32mIn[1], line 1\u001b[0m\n\u001b[1;32m----> 1\u001b[0m \u001b[38;5;28;01mfrom\u001b[39;00m \u001b[38;5;21;01mpyspark\u001b[39;00m\u001b[38;5;21;01m.\u001b[39;00m\u001b[38;5;21;01msql\u001b[39;00m \u001b[38;5;28;01mimport\u001b[39;00m SparkSession\n\u001b[0;32m      2\u001b[0m \u001b[38;5;28;01mfrom\u001b[39;00m \u001b[38;5;21;01mpyspark\u001b[39;00m\u001b[38;5;21;01m.\u001b[39;00m\u001b[38;5;21;01msql\u001b[39;00m\u001b[38;5;21;01m.\u001b[39;00m\u001b[38;5;21;01mfunctions\u001b[39;00m \u001b[38;5;28;01mimport\u001b[39;00m avg, col, concat,count, desc, explode, lit, \u001b[38;5;28mmin\u001b[39m, \u001b[38;5;28mmax\u001b[39m, split, stddev, udf,isnan, when, sort_array, asc, lag, floor\n\u001b[0;32m      3\u001b[0m \u001b[38;5;28;01mfrom\u001b[39;00m \u001b[38;5;21;01mpyspark\u001b[39;00m\u001b[38;5;21;01m.\u001b[39;00m\u001b[38;5;21;01msql\u001b[39;00m \u001b[38;5;28;01mimport\u001b[39;00m Window\n",
      "\u001b[1;31mModuleNotFoundError\u001b[0m: No module named 'pyspark'"
     ]
    }
   ],
   "source": [
    "from pyspark.sql import SparkSession\n",
    "from pyspark.sql.functions import avg, col, concat, count, desc, explode, lit, min, max, split, stddev, udf, isnan, when, sort_array, asc, lag, floor\n",
    "from pyspark.sql import Window\n",
    "from pyspark.sql.types import IntegerType, DateType\n",
    "from pyspark.sql.functions import sum as Fsum\n",
    "\n",
    "from pyspark.ml import Pipeline\n",
    "from pyspark.ml.classification import LogisticRegression, RandomForestClassifier, LinearSVC, GBTClassifier\n",
    "from pyspark.ml.evaluation import MulticlassClassificationEvaluator, BinaryClassificationEvaluator\n",
    "from pyspark.ml.feature import CountVectorizer, IDF, Normalizer, PCA, RegexTokenizer, StandardScaler, StopWordsRemover, StringIndexer, VectorAssembler, MinMaxScaler\n",
    "from pyspark.ml.regression import LinearRegression\n",
    "from pyspark.ml.tuning import CrossValidator, ParamGridBuilder\n",
    "from pyspark.sql.types import DoubleType\n",
    "\n",
    "import datetime\n",
    "import re\n",
    "\n",
    "import pandas as pd\n",
    "import numpy as np\n",
    "import matplotlib.pyplot as plt\n",
    "import seaborn as sns"
   ]
  },
  {
   "cell_type": "code",
   "execution_count": null,
   "metadata": {},
   "outputs": [],
   "source": [
    "# create a Spark session"
   ]
  },
  {
   "cell_type": "markdown",
   "metadata": {},
   "source": [
    "# Load and Clean Dataset\n",
    "In this workspace, the mini-dataset file is `mini_sparkify_event_data.json`. Load and clean the dataset, checking for invalid or missing data - for example, records without userids or sessionids. "
   ]
  },
  {
   "cell_type": "code",
   "execution_count": 7,
   "metadata": {},
   "outputs": [
    {
     "ename": "ModuleNotFoundError",
     "evalue": "No module named 'ibmos2spark'",
     "output_type": "error",
     "traceback": [
      "\u001b[0;31m---------------------------------------------------------------------------\u001b[0m",
      "\u001b[0;31mModuleNotFoundError\u001b[0m                       Traceback (most recent call last)",
      "\u001b[0;32m<ipython-input-7-a8fb7fcf699d>\u001b[0m in \u001b[0;36m<module>\u001b[0;34m()\u001b[0m\n\u001b[0;32m----> 1\u001b[0;31m \u001b[0;32mimport\u001b[0m \u001b[0mibmos2spark\u001b[0m\u001b[0;34m\u001b[0m\u001b[0m\n\u001b[0m\u001b[1;32m      2\u001b[0m \u001b[0;31m# @hidden_cell\u001b[0m\u001b[0;34m\u001b[0m\u001b[0;34m\u001b[0m\u001b[0m\n\u001b[1;32m      3\u001b[0m credentials = {\n\u001b[1;32m      4\u001b[0m     \u001b[0;34m'endpoint'\u001b[0m\u001b[0;34m:\u001b[0m \u001b[0;34m'https://s3-api.us-geo.objectstorage.service.networklayer.com'\u001b[0m\u001b[0;34m,\u001b[0m\u001b[0;34m\u001b[0m\u001b[0m\n\u001b[1;32m      5\u001b[0m     \u001b[0;34m'service_id'\u001b[0m\u001b[0;34m:\u001b[0m \u001b[0;34m'iam-ServiceId-9b9eab8f-0bde-4b92-b104-d34aeab1cdf6'\u001b[0m\u001b[0;34m,\u001b[0m\u001b[0;34m\u001b[0m\u001b[0m\n",
      "\u001b[0;31mModuleNotFoundError\u001b[0m: No module named 'ibmos2spark'"
     ]
    }
   ],
   "source": [
    "from pyspark.sql import SparkSession\n",
    "import ibmos2spark\n",
    "# @hidden_cell\n",
    "credentials = {\n",
    "    'endpoint': 'https://s3-api.us-geo.objectstorage.service.networklayer.com',\n",
    "    'service_id': 'iam-ServiceId-9b9eab8f-0bde-4b92-b104-d34aeab1cdf6',\n",
    "    'iam_service_endpoint': 'https://iam.bluemix.net/oidc/token',\n",
    "    'api_key': 'JgcZpYUhTBgq4dpgZEGYt8m88AODATROOEbdAQv16rpt'\n",
    "}\n",
    "\n",
    "configuration_name = 'os_21c0332572af4b98b556fb9e269421c9_configs'\n",
    "cos = ibmos2spark.CloudObjectStorage(\n",
    "    sc, credentials, configuration_name, 'bluemix_cos')\n",
    "\n",
    "spark = SparkSession.builder.getOrCreate()\n",
    "\n",
    "df_data_1 = spark.read.json(cos.url(\n",
    "    'medium-sparkify-event-data.json', 'udacityconsponepoject-donotdelete-pr-ttedboic8u3ybu'))\n",
    "df_data_1.take(5)"
   ]
  },
  {
   "cell_type": "markdown",
   "metadata": {},
   "source": [
    "# Exploratory Data Analysis\n",
    "When you're working with the full dataset, perform EDA by loading a small subset of the data and doing basic manipulations within Spark. In this workspace, you are already provided a small subset of data you can explore.\n",
    "\n",
    "### Define Churn\n",
    "\n",
    "Once you've done some preliminary analysis, create a column `Churn` to use as the label for your model. I suggest using the `Cancellation Confirmation` events to define your churn, which happen for both paid and free users. As a bonus task, you can also look into the `Downgrade` events.\n",
    "\n",
    "### Explore Data\n",
    "Once you've defined churn, perform some exploratory data analysis to observe the behavior for users who stayed vs users who churned. You can start by exploring aggregates on these two groups of users, observing how much of a specific action they experienced per a certain time unit or number of songs played."
   ]
  },
  {
   "cell_type": "code",
   "execution_count": 6,
   "metadata": {
    "scrolled": true
   },
   "outputs": [
    {
     "ename": "NameError",
     "evalue": "name 'df_data_1' is not defined",
     "output_type": "error",
     "traceback": [
      "\u001b[0;31m---------------------------------------------------------------------------\u001b[0m",
      "\u001b[0;31mNameError\u001b[0m                                 Traceback (most recent call last)",
      "\u001b[0;32m<ipython-input-6-b5c9047cf006>\u001b[0m in \u001b[0;36m<module>\u001b[0;34m()\u001b[0m\n\u001b[0;32m----> 1\u001b[0;31m \u001b[0mdf_spark\u001b[0m \u001b[0;34m=\u001b[0m \u001b[0mdf_data_1\u001b[0m\u001b[0;34m\u001b[0m\u001b[0m\n\u001b[0m\u001b[1;32m      2\u001b[0m \u001b[0mdf_spark\u001b[0m\u001b[0;34m.\u001b[0m\u001b[0mcount\u001b[0m\u001b[0;34m(\u001b[0m\u001b[0;34m)\u001b[0m\u001b[0;34m\u001b[0m\u001b[0m\n",
      "\u001b[0;31mNameError\u001b[0m: name 'df_data_1' is not defined"
     ]
    }
   ],
   "source": [
    "df_spark = df_data_1\n",
    "df_spark.count()"
   ]
  },
  {
   "cell_type": "code",
   "execution_count": null,
   "metadata": {},
   "outputs": [],
   "source": [
    "df_spark = df_spark.filter(df_spark['userId'] != \"\")\n",
    "df_spark.count()"
   ]
  },
  {
   "cell_type": "code",
   "execution_count": null,
   "metadata": {},
   "outputs": [],
   "source": [
    "# df_spark.show()"
   ]
  },
  {
   "cell_type": "code",
   "execution_count": null,
   "metadata": {},
   "outputs": [],
   "source": [
    "df_spark.select('userId').dropDuplicates().count()"
   ]
  },
  {
   "cell_type": "markdown",
   "metadata": {},
   "source": [
    "# Feature Engineering\n",
    "Once you've familiarized yourself with the data, build out the features you find promising to train your model on. To work with the full dataset, you can follow the following steps.\n",
    "- Write a script to extract the necessary features from the smaller subset of data\n",
    "- Ensure that your script is scalable, using the best practices discussed in Lesson 3\n",
    "- Try your script on the full data set, debugging your script if necessary\n",
    "\n",
    "If you are working in the classroom workspace, you can just extract features based on the small subset of data contained here. Be sure to transfer over this work to the larger dataset when you work on your Spark cluster."
   ]
  },
  {
   "cell_type": "code",
   "execution_count": null,
   "metadata": {},
   "outputs": [],
   "source": [
    "def df_Value_Summary(df, col_watch, col_value, nhead=5):\n",
    "    '''\n",
    "    Function: show the freq and the most nhead propotion value of col,and show the value and count of Null \n",
    "    Input:\n",
    "        df: the value count of col dataFrame\n",
    "        col_watch:the watch column\n",
    "        col_value:the value which to be watch by col_watch\n",
    "        nhead:how many most propotion value to show \n",
    "    Output:DataFrame including the freq and the most nhead propotion value of col,and show the value and count of Null \n",
    "\n",
    "    排序还是有些问题，注意检查\n",
    "    '''\n",
    "    tmp = df.select(col_value, col_watch).dropDuplicates().groupby(col_watch).count().toPandas(\n",
    "    ).rename_axis({'count': col_value}, axis=1).sort_values(by=col_value, ascending=False)\n",
    "\n",
    "    value = pd.DataFrame(['value {}'.format(i) for i in range(nhead)], index=range(\n",
    "        nhead)).join(tmp.iloc[:, 0], how='left').set_index(0).T\n",
    "\n",
    "    freq = pd.DataFrame(['freq {}'.format(i) for i in range(nhead)], index=range(\n",
    "        nhead)).join(tmp.iloc[:, 1], how='left').set_index(0).T\n",
    "\n",
    "    freq.index = [col_watch]\n",
    "\n",
    "    null_count = tmp[tmp[col_watch] != tmp[col_watch]].shape[0]\n",
    "\n",
    "    if null_count == 0:\n",
    "        nnull = 0\n",
    "    else:\n",
    "        nnull = tmp[tmp[col_watch] != tmp[col_watch]\n",
    "                    ].reset_index().loc[0, col_value]\n",
    "\n",
    "    freqother = pd.DataFrame([nnull, tmp[col_value].sum() - nnull - freq.sum(\n",
    "        axis=1).sum()], index=['freqNull', 'freqOther']).T.rename_axis({0: col_watch})\n",
    "\n",
    "    freqother.index = [col_watch]\n",
    "\n",
    "    count_value = pd.DataFrame({'count': [tmp.shape[0]]}, index=[col_watch])\n",
    "\n",
    "    freq_sum = pd.DataFrame(\n",
    "        {'sum': [np.sum(tmp[col_value])]}, index=[col_watch])\n",
    "\n",
    "    freq_min = pd.DataFrame(\n",
    "        {'min': [np.min(tmp[col_value])]}, index=[col_watch])\n",
    "\n",
    "    freq_max = pd.DataFrame(\n",
    "        {'max': [np.max(tmp[col_value])]}, index=[col_watch])\n",
    "\n",
    "    freq_mean = pd.DataFrame(\n",
    "        {'mean': [np.mean(tmp[col_value])]}, index=[col_watch])\n",
    "\n",
    "    freq_median = pd.DataFrame(\n",
    "        {'median': [np.median(tmp[col_value])]}, index=[col_watch])\n",
    "\n",
    "    op = pd.concat([count_value, freq_sum, freq_min, freq_max,\n",
    "                   freq_mean, freq_median, value, freq, freqother], axis=1)\n",
    "\n",
    "    return op"
   ]
  },
  {
   "cell_type": "code",
   "execution_count": null,
   "metadata": {},
   "outputs": [],
   "source": [
    "col_watch_list = ['artist', 'auth', 'firstName', 'gender',\n",
    "                  'level', 'location', 'page', 'song', 'status', 'userAgent']\n",
    "col_value = 'userId'\n",
    "df_watch_All = pd.DataFrame()\n",
    "for col_watch in col_watch_list:\n",
    "    df_watch_summary = df_Value_Summary(df_spark, col_watch, col_value, 5)\n",
    "    df_watch_All = pd.concat([df_watch_All, df_watch_summary], axis=0)\n",
    "\n",
    "df_watch_All"
   ]
  },
  {
   "cell_type": "markdown",
   "metadata": {},
   "source": [
    "# Modeling\n",
    "Split the full dataset into train, test, and validation sets. Test out several of the machine learning methods you learned. Evaluate the accuracy of the various models, tuning parameters as necessary. Determine your winning model based on test accuracy and report results on the validation set. Since the churned users are a fairly small subset, I suggest using F1 score as the metric to optimize."
   ]
  },
  {
   "cell_type": "code",
   "execution_count": null,
   "metadata": {},
   "outputs": [],
   "source": []
  },
  {
   "cell_type": "markdown",
   "metadata": {},
   "source": [
    "# Final Steps\n",
    "Clean up your code, adding comments and renaming variables to make the code easier to read and maintain. Refer to the Spark Project Overview page and Data Scientist Capstone Project Rubric to make sure you are including all components of the capstone project and meet all expectations. Remember, this includes thorough documentation in a README file in a Github repository, as well as a web app or blog post."
   ]
  },
  {
   "cell_type": "code",
   "execution_count": null,
   "metadata": {},
   "outputs": [],
   "source": []
  }
 ],
 "metadata": {
  "kernelspec": {
   "display_name": "Python 3",
   "language": "python",
   "name": "python3"
  },
  "language_info": {
   "codemirror_mode": {
    "name": "ipython",
    "version": 3
   },
   "file_extension": ".py",
   "mimetype": "text/x-python",
   "name": "python",
   "nbconvert_exporter": "python",
   "pygments_lexer": "ipython3",
   "version": "3.11.1"
  }
 },
 "nbformat": 4,
 "nbformat_minor": 2
}
